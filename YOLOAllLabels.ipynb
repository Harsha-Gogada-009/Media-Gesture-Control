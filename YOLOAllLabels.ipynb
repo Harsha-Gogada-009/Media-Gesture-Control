{
 "cells": [
  {
   "cell_type": "code",
   "execution_count": 1,
   "id": "f5b2a666-9dde-47ff-8b28-b4bf77238453",
   "metadata": {},
   "outputs": [
    {
     "name": "stdout",
     "output_type": "stream",
     "text": [
      "Collecting ultralytics\n",
      "  Downloading ultralytics-8.3.92-py3-none-any.whl.metadata (35 kB)\n",
      "Collecting opencv-python\n",
      "  Downloading opencv_python-4.11.0.86-cp37-abi3-win_amd64.whl.metadata (20 kB)\n"
      "Successfully installed opencv-python-4.11.0.86 ultralytics-8.3.92 ultralytics-thop-2.0.14\n",
      "Note: you may need to restart the kernel to use updated packages.\n"
     ]
    }
   ],
   "source": [
    "pip install ultralytics opencv-python numpy"
   ]
  },
  {
   "cell_type": "code",
   "execution_count": null,
   "id": "d429ec69-90e6-47e4-a3de-cd3a46cd25f5",
   "metadata": {},
   "outputs": [],
   "source": [
    "from ultralytics import YOLO\n",
    "import cv2\n",
    "import numpy as np\n",
    "from IPython.display import display , clear_output\n",
    "from PIL import Image\n",
    "\n",
    "\n",
    "model = YOLO(\"yolov8n.pt\")\n",
    "\n",
    "\n",
    "\"\"\"\n",
    "The \"yolov8n.pt\" model file contains:\n",
    "✅ A Convolutional Neural Network (CNN) architecture optimized for real-time object detection.\n",
    "✅ Pretrained weights trained on COCO dataset (or custom datasets if fine-tuned).\n",
    "✅ The full pipeline for bounding box regression + class predictions.\n",
    "\"\"\"\n",
    "\n",
    "cap = cv2.VideoCapture(0) #Here 0 is for default webcame , we can use 0 or 1 or 2 if we have multiple webcams \n",
    "\n",
    "while True:\n",
    "    ret , frame = cap.read()\n",
    "\n",
    "    if not ret:\n",
    "        break\n",
    "    results = model(frame)\n",
    "\n",
    "    \"\"\"\n",
    "    results is the output of the YOLOv8 model when it processes the frame.\n",
    "    Data Type: It is a list containing ultralytics.engine.results.Results objects.\n",
    "    Since the model may detect multiple objects, each frame will have one Results object in the list.\n",
    "    \"\"\"\n",
    "    \n",
    "    \"\"\"\n",
    "    Since results is a list (with 1 item), r refers to the only Results object in the list.\n",
    "    Data Type: r is an instance of ultralytics.engine.results.Results.\n",
    "    \"\"\"\n",
    "    \n",
    "    \"\"\"\n",
    "    results is a list of Results objectsobjects (even (even though it usually contains just one object per frame).\n",
    "    Each Results object corresponds to one frame and holds all detection details for that frame.\n",
    "    r refers to a single Results object, meaning it contains the detection data for one specific frame.\n",
    "    \"\"\"     \n",
    "    for r in results:\n",
    "        for box in r.boxes:\n",
    "            x1,y1,x2,y2 = map(int , box.xyxy[0])\n",
    "            conf = box.conf[0].item()\n",
    "            class_id = int(box.cls[0].item())\n",
    "            class_name = r.names[class_id]\n",
    "            cv2.rectangle(frame , (x1 , y1) , (x2,y2) , (0,255 , 0) , 2)\n",
    "            label_text = f\"{class_name}: {conf:.2f}\"\n",
    "            cv2.putText(frame, label_text , (x1, y1 - 10),cv2.FONT_HERSHEY_SIMPLEX, 0.5, (0, 255, 0), 2)\n",
    "    cv2.imshow(\"Hand Detection\", frame)\n",
    "    if cv2.waitKey(1) & 0xFF == ord('q'):\n",
    "        break\n",
    "cap.release()\n",
    "cv2.destroyAllWindows()"
   ]
  }
 ],
 "metadata": {
  "kernelspec": {
   "display_name": "Python 3 (ipykernel)",
   "language": "python",
   "name": "python3"
  },
  "language_info": {
   "codemirror_mode": {
    "name": "ipython",
    "version": 3
   },
   "file_extension": ".py",
   "mimetype": "text/x-python",
   "name": "python",
   "nbconvert_exporter": "python",
   "pygments_lexer": "ipython3",
   "version": "3.12.4"
  }
 },
 "nbformat": 4,
 "nbformat_minor": 5
}
